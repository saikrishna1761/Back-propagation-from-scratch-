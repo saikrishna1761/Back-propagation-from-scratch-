{
 "cells": [
  {
   "cell_type": "code",
   "execution_count": 1,
   "id": "32ad47ab",
   "metadata": {},
   "outputs": [],
   "source": [
    "import numpy as np\n",
    "import pickle"
   ]
  },
  {
   "cell_type": "code",
   "execution_count": 2,
   "id": "d389efb1",
   "metadata": {},
   "outputs": [],
   "source": [
    "with open('data.pkl','rb') as f:\n",
    "    data=pickle.load(f)"
   ]
  },
  {
   "cell_type": "code",
   "execution_count": 3,
   "id": "7001b176",
   "metadata": {},
   "outputs": [],
   "source": [
    "X=data[:,:-1]\n",
    "y=data[:,-1]"
   ]
  },
  {
   "cell_type": "code",
   "execution_count": 4,
   "id": "aaa29c6e",
   "metadata": {},
   "outputs": [],
   "source": [
    "def sigmoid(x):\n",
    "    return 1/(1+np.exp(-x))"
   ]
  },
  {
   "cell_type": "code",
   "execution_count": 5,
   "id": "3d8b5257",
   "metadata": {},
   "outputs": [],
   "source": [
    "W=np.random.randn(9)*0.01"
   ]
  },
  {
   "cell_type": "code",
   "execution_count": 6,
   "id": "f0327bb7",
   "metadata": {},
   "outputs": [],
   "source": [
    "def forward_propagation(X, y, W):\n",
    "    a=W[0]*X[0]+W[1]*X[1]\n",
    "    part_1=a**2+W[5] \n",
    "    exp= np.exp(part_1)\n",
    "    part_2=exp+W[6]\n",
    "    tanh=np.tanh(part_2)\n",
    "    b=W[2]*X[2]\n",
    "    c=W[3]*X[3]+W[4]*X[4]\n",
    "    part_3=np.sin(b)*c+W[7]\n",
    "    sig=sigmoid(part_3)\n",
    "    y_=tanh+sig*W[8]\n",
    "    L=(y-y_)**2\n",
    "    dL=-2*(y-y_)\n",
    "    nodes={'a':a,'b':b,'c':c,'exp':exp,'tanh':tanh,'sigmoid':sig,'y_':y_,'loss':L,'dy_pr':dL}\n",
    "    return nodes"
   ]
  },
  {
   "cell_type": "code",
   "execution_count": 7,
   "id": "6121bfd6",
   "metadata": {},
   "outputs": [],
   "source": [
    "def backward_propagation(X,y,Wi):\n",
    "    nodes= forward_propagation(X, y, Wi)\n",
    "    lst=[]\n",
    "    for i in nodes.values():\n",
    "        lst.append(i)\n",
    "    [a,b,c,exp,tanh,sig,y_,L,dL]=lst\n",
    "    dL=-2*(y-y_)\n",
    "    dw9=sig*dL\n",
    "    #dw8=dL*W[8]*sig*(1-sig)\n",
    "    dw8=((dw9/sig)*Wi[8]*(sig*(1-sig)))\n",
    "    dw3=dw8*c*X[2]*np.cos(b)\n",
    "    dw4=dw8*X[3]*np.sin(b)\n",
    "    dw5=dw8*X[4]*np.sin(b)\n",
    "    dw7=(1-tanh**2)*dL\n",
    "    dw6=dw7*exp\n",
    "    #dw2=dw6*2*a*X[1]\n",
    "    dw2=(1-tanh**2)*dL*exp*2*a*X[1]\n",
    "    dw1=dw6*2*a*X[0]\n",
    "    #dw= [dw1,dw2,dw3,dw4,dw5,dw6,dw7,dw8,dw9]\n",
    "    dw={'dw1':dw1,'dw2':dw2,'dw3':dw3,'dw4':dw4,'dw5':dw5,'dw6':dw6,'dw7':dw7,'dw8':dw8,'dw9':dw9}\n",
    "    return dw"
   ]
  },
  {
   "cell_type": "code",
   "execution_count": 8,
   "id": "50909413",
   "metadata": {},
   "outputs": [],
   "source": [
    "def dict_to_list(d):\n",
    "    dW=[]\n",
    "    for key in d:\n",
    "        dW.append(d[key])\n",
    "    return dW"
   ]
  },
  {
   "cell_type": "code",
   "execution_count": 9,
   "id": "0f457519",
   "metadata": {},
   "outputs": [],
   "source": [
    "def grad_check(X,W,y):\n",
    "    dw_approx=[]\n",
    "    epsilon=0.0001\n",
    "    for i in range(len(W)):\n",
    "        a=W[i]\n",
    "        W[i]=W[i]+epsilon\n",
    "        nodes_1=forward_propagation(X,y,W)\n",
    "        L1=nodes_1['loss']\n",
    "        W[i]=a\n",
    "        W[i]=W[i]-epsilon\n",
    "        nodes_2=forward_propagation(X,y,W)\n",
    "        L2=nodes_2['loss']\n",
    "        W[i]=a\n",
    "        change_loss=(L1-L2)/(2*(epsilon))\n",
    "        dw_approx.append(change_loss)\n",
    "    dw_bp=backward_propagation(X,y,W)\n",
    "    dw_bp=np.array(dict_to_list(dw_bp)).reshape(-1,1)\n",
    "    dw_approx=np.array(dw_approx).reshape(-1,1) \n",
    "    num = np.linalg.norm(dw_bp-dw_approx)\n",
    "    den = (np.linalg.norm(dw_bp))+(np.linalg.norm(dw_approx))\n",
    "    grad_check = num/den\n",
    "    if (grad_check < 1e-7):\n",
    "        print(\"Gradient checking is done!\")\n",
    "    else:\n",
    "        print(\"please debug your code\")\n",
    "    return grad_check,dw_approx,dw_bp"
   ]
  },
  {
   "cell_type": "code",
   "execution_count": 10,
   "id": "41517840",
   "metadata": {},
   "outputs": [
    {
     "name": "stdout",
     "output_type": "stream",
     "text": [
      "Gradient checking is done!\n"
     ]
    }
   ],
   "source": [
    "grad_check,dw_approx,dw_bp=grad_check(X[1,:],W,y[1])"
   ]
  },
  {
   "cell_type": "code",
   "execution_count": 11,
   "id": "fe42cbe1",
   "metadata": {},
   "outputs": [
    {
     "data": {
      "text/plain": [
       "True"
      ]
     },
     "execution_count": 11,
     "metadata": {},
     "output_type": "execute_result"
    }
   ],
   "source": [
    "def grader_sigmoid(z):\n",
    "    val=sigmoid(z)\n",
    "    assert(val==0.8807970779778823)\n",
    "    return True\n",
    "grader_sigmoid(2)"
   ]
  },
  {
   "cell_type": "code",
   "execution_count": 12,
   "id": "b19e66c3",
   "metadata": {},
   "outputs": [
    {
     "data": {
      "text/plain": [
       "True"
      ]
     },
     "execution_count": 12,
     "metadata": {},
     "output_type": "execute_result"
    }
   ],
   "source": [
    "def grader_forwardprop(data):\n",
    "    dl = (data['dy_pr']==-1.9285278284819143)\n",
    "    loss=(data['loss']==0.9298048963072919)\n",
    "    part1=(data['exp']==1.1272967040973583)\n",
    "    part2=(data['tanh']==0.8417934192562146)\n",
    "    part3=(data['sigmoid']==0.5279179387419721)\n",
    "    assert(dl and loss and part1 and part2 and part3)\n",
    "    return True\n",
    "w=np.ones(9)*0.1\n",
    "d1=forward_propagation(X[0],y[0],w)\n",
    "grader_forwardprop(d1)"
   ]
  },
  {
   "cell_type": "code",
   "execution_count": 13,
   "id": "960cc6bf",
   "metadata": {},
   "outputs": [
    {
     "data": {
      "text/plain": [
       "True"
      ]
     },
     "execution_count": 13,
     "metadata": {},
     "output_type": "execute_result"
    }
   ],
   "source": [
    "def grader_backprop(data):\n",
    "    dw1=(data['dw1']==-0.22973323498702)\n",
    "    dw2=(data['dw2']==-0.02140761471775293)\n",
    "    dw3=(data['dw3']==-0.005625405580266319)\n",
    "    dw4=(data['dw4']==-0.004657941222712423)\n",
    "    dw5=(data['dw5']==-0.0010077228498574246)\n",
    "    dw6=(data['dw6']==-0.6334751873437471)\n",
    "    dw7=(data['dw7']==-0.561941842854033)\n",
    "    dw8=(data['dw8']==-0.04806288407316516)\n",
    "    dw9=(data['dw9']==-1.0181044360187037)\n",
    "    assert(dw1 and dw2 and dw3 and dw4 and dw5 and dw6 and dw7 and dw8 and dw9 )\n",
    "    return True \n",
    "w=np.ones(9)*0.1\n",
    "d1=backward_propagation(X[0],y[0],w)\n",
    "grader_backprop(d1)"
   ]
  },
  {
   "cell_type": "markdown",
   "id": "d67ce374",
   "metadata": {},
   "source": [
    "## Vannila optimizer"
   ]
  },
  {
   "cell_type": "code",
   "execution_count": 14,
   "id": "96993dff",
   "metadata": {},
   "outputs": [],
   "source": [
    "def vanilla_optimizer(X,y,W,epoch,alpha=0.01):\n",
    "    total_loss=[]\n",
    "    m=X.shape[0]\n",
    "    for i in range(epoch): \n",
    "        loss=[]\n",
    "        for j in range(m):\n",
    "            dW=backward_propagation(X[j,:],y[j],W)\n",
    "            dW=np.array(dict_to_list(dW))\n",
    "            W=W-alpha*(dW)\n",
    "            nodes=forward_propagation(X[j,:],y[j],W)\n",
    "            loss.append(nodes['loss'])\n",
    "        total_loss.append(np.mean(loss))\n",
    "    return total_loss           "
   ]
  },
  {
   "cell_type": "code",
   "execution_count": 15,
   "id": "c2e3579f",
   "metadata": {},
   "outputs": [],
   "source": [
    "total_loss=vanilla_optimizer(X,y,W,epoch=30,alpha=0.01)"
   ]
  },
  {
   "cell_type": "code",
   "execution_count": 16,
   "id": "ad3a7a43",
   "metadata": {},
   "outputs": [],
   "source": [
    "import matplotlib.pyplot as plt\n",
    "%matplotlib inline"
   ]
  },
  {
   "cell_type": "code",
   "execution_count": 17,
   "id": "0050e539",
   "metadata": {},
   "outputs": [],
   "source": [
    "epoch=30"
   ]
  },
  {
   "cell_type": "code",
   "execution_count": 18,
   "id": "e814635e",
   "metadata": {},
   "outputs": [
    {
     "data": {
      "text/plain": [
       "Text(0.5, 1.0, 'Loss vs  No of iterations')"
      ]
     },
     "execution_count": 18,
     "metadata": {},
     "output_type": "execute_result"
    },
    {
     "data": {
      "image/png": "[encoded data removed]",
      "text/plain": [
       "<Figure size 432x288 with 1 Axes>"
      ]
     },
     "metadata": {
      "needs_background": "light"
     },
     "output_type": "display_data"
    }
   ],
   "source": [
    "plt.plot(list(range(epoch)),total_loss)\n",
    "plt.xlabel(\"No of iterations\")\n",
    "plt.ylabel(\"Loss\")\n",
    "plt.title(\"Loss vs  No of iterations\")"
   ]
  },
  {
   "cell_type": "markdown",
   "id": "ed4d5455",
   "metadata": {},
   "source": [
    "## SGD+ Momentum"
   ]
  },
  {
   "cell_type": "code",
   "execution_count": 19,
   "id": "ed7c0803",
   "metadata": {},
   "outputs": [],
   "source": [
    "def momentum_optimizer(X,y,W,epoch,alpha=0.01,beta=0.9):\n",
    "    total_loss=[]\n",
    "    m=X.shape[0]\n",
    "    \n",
    "    V=np.zeros(len(W))\n",
    "    for i in range(epoch):\n",
    "        loss=[]\n",
    "        for j in range(m):\n",
    "            dW=backward_propagation(X[j,:],y[j],W)\n",
    "            dW=np.array(dict_to_list(dW))\n",
    "            \n",
    "            V=beta*V+(1-beta)*dW\n",
    "            W=W-alpha*V\n",
    "            nodes=forward_propagation(X[j,:],y[j],W)\n",
    "            loss.append(nodes['loss'])\n",
    "        total_loss.append(np.mean(loss))\n",
    "    return total_loss           "
   ]
  },
  {
   "cell_type": "code",
   "execution_count": 20,
   "id": "b9943f79",
   "metadata": {},
   "outputs": [],
   "source": [
    "m_loss= momentum_optimizer(X,y,W,epoch,alpha=0.01,beta=0.9)"
   ]
  },
  {
   "cell_type": "code",
   "execution_count": 21,
   "id": "12146e7b",
   "metadata": {},
   "outputs": [
    {
     "data": {
      "text/plain": [
       "Text(0.5, 1.0, 'Loss vs  No of iterations')"
      ]
     },
     "execution_count": 21,
     "metadata": {},
     "output_type": "execute_result"
    },
    {
     "data": {
      "image/png": "[encoded data removed]",
      "text/plain": [
       "<Figure size 432x288 with 1 Axes>"
      ]
     },
     "metadata": {
      "needs_background": "light"
     },
     "output_type": "display_data"
    }
   ],
   "source": [
    "plt.plot(list(range(epoch)),m_loss)\n",
    "plt.xlabel(\"No of iterations\")\n",
    "plt.ylabel(\"Loss\")\n",
    "plt.title(\"Loss vs  No of iterations\")"
   ]
  },
  {
   "cell_type": "markdown",
   "id": "98d38833",
   "metadata": {},
   "source": [
    "## Adam optimizer"
   ]
  },
  {
   "cell_type": "code",
   "execution_count": 25,
   "id": "6456c130",
   "metadata": {},
   "outputs": [],
   "source": [
    "def adam_optimizer(X,y,W,epoch,beta1=0.9,beta2=0.999,epsln=1e-7,alpha=0.01):\n",
    "    total_cost=[]\n",
    "    mt=np.zeros(len(W))\n",
    "    vt=np.zeros(len(w))\n",
    "    m=X.shape[0]\n",
    "    for i in range(epoch):\n",
    "        loss=[]\n",
    "        for j in range(m):\n",
    "            dW=backward_propagation(X[j,:],y[j],W)\n",
    "            dW=np.array(dict_to_list(dW))\n",
    "            \n",
    "            mt=beta1*mt+(1-beta1)*(dW)\n",
    "            vt=beta2*vt+(1-beta2)*np.square(dW)\n",
    "            mt=mt/(1-np.power(beta1,j+1))\n",
    "            vt=vt/(1-np.power(beta2,j+1))\n",
    "            \n",
    "            W=W-alpha*((mt)/(np.sqrt(vt)+epsln))\n",
    "            nodes=forward_propagation(X[j,:],y[j],W)\n",
    "            loss.append(nodes['loss'])\n",
    "\n",
    "        total_cost.append(np.mean(loss))\n",
    "    return total_cost"
   ]
  },
  {
   "cell_type": "code",
   "execution_count": 26,
   "id": "41fb7d86",
   "metadata": {},
   "outputs": [
    {
     "name": "stderr",
     "output_type": "stream",
     "text": [
      "<ipython-input-25-4c7ea3aa41c6>:15: RuntimeWarning: overflow encountered in true_divide\n",
      "  vt=vt/(1-np.power(beta2,j+1))\n"
     ]
    }
   ],
   "source": [
    "adam_loss=adam_optimizer(X,y,W,epoch,beta1=0.9,beta2=0.999,epsln=1e-7,alpha=0.01)"
   ]
  },
  {
   "cell_type": "code",
   "execution_count": 27,
   "id": "cc513719",
   "metadata": {},
   "outputs": [
    {
     "data": {
      "text/plain": [
       "Text(0.5, 1.0, 'Loss vs  No of iterations')"
      ]
     },
     "execution_count": 27,
     "metadata": {},
     "output_type": "execute_result"
    },
    {
     "data": {
      "image/png": "[encoded data removed]",
      "text/plain": [
       "<Figure size 432x288 with 1 Axes>"
      ]
     },
     "metadata": {
      "needs_background": "light"
     },
     "output_type": "display_data"
    }
   ],
   "source": [
    "plt.plot(list(range(epoch)),adam_loss,color='green')\n",
    "plt.xlabel(\"No of iterations\")\n",
    "plt.ylabel(\"Loss\")\n",
    "plt.title(\"Loss vs  No of iterations\")"
   ]
  },
  {
   "cell_type": "code",
   "execution_count": null,
   "id": "8b2379b9",
   "metadata": {},
   "outputs": [],
   "source": []
  }
 ],
 "metadata": {
  "kernelspec": {
   "display_name": "Python 3",
   "language": "python",
   "name": "python3"
  },
  "language_info": {
   "codemirror_mode": {
    "name": "ipython",
    "version": 3
   },
   "file_extension": ".py",
   "mimetype": "text/x-python",
   "name": "python",
   "nbconvert_exporter": "python",
   "pygments_lexer": "ipython3",
   "version": "3.9.1"
  }
 },
 "nbformat": 4,
 "nbformat_minor": 5
}
